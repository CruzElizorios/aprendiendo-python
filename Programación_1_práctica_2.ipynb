{
  "nbformat": 4,
  "nbformat_minor": 0,
  "metadata": {
    "colab": {
      "provenance": [],
      "include_colab_link": true
    },
    "kernelspec": {
      "name": "python3",
      "display_name": "Python 3"
    },
    "language_info": {
      "name": "python"
    }
  },
  "cells": [
    {
      "cell_type": "markdown",
      "metadata": {
        "id": "view-in-github",
        "colab_type": "text"
      },
      "source": [
        "<a href=\"https://colab.research.google.com/github/CruzElizorios/aprendiendo-python/blob/main/Programaci%C3%B3n_1_pr%C3%A1ctica_2.ipynb\" target=\"_parent\"><img src=\"https://colab.research.google.com/assets/colab-badge.svg\" alt=\"Open In Colab\"/></a>"
      ]
    },
    {
      "cell_type": "markdown",
      "source": [
        "# Unidad 3. Ejecución Condicional\n",
        "\n",
        "Sentencia if-else. Condiciones simples y compuestas. Anidamiento. Alternativas encadenadas (elif). Operador ternario"
      ],
      "metadata": {
        "id": "uS8xo0dbkFsu"
      }
    },
    {
      "cell_type": "markdown",
      "source": [
        "####**Ejercicio 1.**\n",
        "Escribir un programa que pregunte al usuario su edad y muestre por pantalla si es mayor de edad o no.\n",
        "\n"
      ],
      "metadata": {
        "id": "5YtGU_ZAd-ie"
      }
    },
    {
      "cell_type": "code",
      "source": [
        "edad=int(input(\"contame tu edad\"))\n",
        "if edad<=18:\n",
        "  print(\"menor\")\n",
        "else:\n",
        "  print(\"mayor\")"
      ],
      "metadata": {
        "id": "GlP-wYoweHgq",
        "colab": {
          "base_uri": "https://localhost:8080/"
        },
        "outputId": "d41872ca-5408-4d37-d871-5799ca043300"
      },
      "execution_count": null,
      "outputs": [
        {
          "output_type": "stream",
          "name": "stdout",
          "text": [
            "contame tu edad15\n",
            "menor\n"
          ]
        }
      ]
    },
    {
      "cell_type": "markdown",
      "source": [
        "####**Ejercicio 2.**\n",
        "\n",
        "Escribir un programa que almacene la cadena de caracteres 'pepito' en una variable, pregunte al usuario por la contraseña e imprima por pantalla si la contraseña introducida por el usuario coincide con la guardada en la variable sin tener en cuenta mayúsculas y minúsculas."
      ],
      "metadata": {
        "id": "cUwwcZ5VeTyB"
      }
    },
    {
      "cell_type": "code",
      "source": [
        "contraseña= \"pepito\"\n",
        "prueba= input(\"ingrese contraseña\")\n",
        "\n",
        "if prueba.lower() == contraseña:\n",
        "  print(\" coincide\")\n",
        "else:\n",
        "  print(\" no coincide}\")"
      ],
      "metadata": {
        "id": "_6S2jzIyeYmu",
        "colab": {
          "base_uri": "https://localhost:8080/"
        },
        "outputId": "b1f20839-c19a-463b-b4a9-dec553372b76"
      },
      "execution_count": null,
      "outputs": [
        {
          "output_type": "stream",
          "name": "stdout",
          "text": [
            "ingrese contraseñaPEPITO\n",
            " coincide\n"
          ]
        }
      ]
    },
    {
      "cell_type": "markdown",
      "source": [
        "####**Ejercicio 3.**\n",
        "\n",
        "Desarrollar un programa que permita verificar la seguridad de una contraseña ingresada por el usuario. El programa debe realizar las siguientes comprobaciones:\n"
      ],
      "metadata": {
        "id": "vVFWsF99kHfR"
      }
    },
    {
      "cell_type": "markdown",
      "source": [
        "``` python\n",
        "a. Longitud superior a 8 caracteres e inferior a 16.\n",
        "```"
      ],
      "metadata": {
        "id": "uvplYZaEkpj3"
      }
    },
    {
      "cell_type": "code",
      "execution_count": null,
      "metadata": {
        "id": "uihTwo6pjXAf",
        "colab": {
          "base_uri": "https://localhost:8080/"
        },
        "outputId": "0b970b57-84b9-409f-c8f5-2182a572d944"
      },
      "outputs": [
        {
          "output_type": "stream",
          "name": "stdout",
          "text": [
            "ingrese la contra:    dosdosdos\n",
            " cumple\n"
          ]
        }
      ],
      "source": [
        "contraseña= input(\"ingrese la contra:    \")\n",
        "caracteres= len(contraseña)\n",
        "if 8<caracteres<16:\n",
        "  print(\" cumple\")\n",
        "else:\n",
        "  print(\" no cumple\")"
      ]
    },
    {
      "cell_type": "markdown",
      "source": [
        "``` python\n",
        "b. Contiene al menos un caracter especial\n",
        "```"
      ],
      "metadata": {
        "id": "GZjPiGO6krgU"
      }
    },
    {
      "cell_type": "code",
      "source": [
        "caracteres_especiales ='!@#$%^&*_.?'\n",
        "contraseña= input(\"ingrese la contra:    \")\n",
        "caracteres= len(contraseña)\n",
        "cumple=0\n",
        "if 8<caracteres<16:\n",
        "  for x in range(len(contraseña)):\n",
        "    if contraseña[x] in caracteres_especiales:\n",
        "      cumple+=1;\n",
        "    else:\n",
        "      pass\n",
        "\n",
        "  if cumple:\n",
        "    print(\"cumple\")\n",
        "  else:\n",
        "    print(\" no cumple\")\n"
      ],
      "metadata": {
        "id": "GUmBPdJPlIpj",
        "colab": {
          "base_uri": "https://localhost:8080/"
        },
        "outputId": "0983222a-7938-49e2-b255-24821f82b024"
      },
      "execution_count": null,
      "outputs": [
        {
          "output_type": "stream",
          "name": "stdout",
          "text": [
            "ingrese la contra:    dosdosdos\n",
            " no cumple\n"
          ]
        }
      ]
    },
    {
      "cell_type": "markdown",
      "source": [
        "``` python\n",
        "c. Contiene al menos un número\n",
        "```"
      ],
      "metadata": {
        "id": "ctLayJtPlZIO"
      }
    },
    {
      "cell_type": "code",
      "source": [
        "numeros = '0123456789'\n",
        "caracteres_especiales ='!@#$%^&*_.?'\n",
        "contraseña= input(\"ingrese la contra:    \")\n",
        "caracteres= len(contraseña)\n",
        "cumple=0\n",
        "cumple2=0\n",
        "if 8<caracteres<16:\n",
        "  for x in range(len(contraseña)):\n",
        "    if contraseña[x] in caracteres_especiales:\n",
        "      cumple+=1;\n",
        "    elif contraseña[x] in numeros:\n",
        "      cumple2+=1\n",
        "    else:\n",
        "      pass\n",
        "\n",
        "  if cumple and cumple2:\n",
        "    print(\"cumple\")\n",
        "  else:\n",
        "    print(\"no cumple\")\n"
      ],
      "metadata": {
        "id": "NYba4DBalilQ",
        "colab": {
          "base_uri": "https://localhost:8080/"
        },
        "outputId": "935ec51f-141f-44a4-c933-016853f5b369"
      },
      "execution_count": null,
      "outputs": [
        {
          "output_type": "stream",
          "name": "stdout",
          "text": [
            "ingrese la contra:    dosdosdos*9\n",
            "cumple\n"
          ]
        }
      ]
    },
    {
      "cell_type": "code",
      "source": [
        "numeros = '0123456789'\n",
        "caracteres_especiales ='!@#$%^&*_.?'\n",
        "contraseña= input(\"ingrese la contra:    \")\n",
        "caracteres= len(contraseña)\n",
        "cumple=0\n",
        "cumple2=0\n",
        "if 8<caracteres<16:\n",
        "  for indice, caracter  in enumerate(contraseña):\n",
        "    if caracter in caracteres_especiales:\n",
        "      cumple=1\n",
        "    if caracter in numeros:\n",
        "      cumple2+=1\n",
        "    else:\n",
        "      pass\n",
        "\n",
        "  if cumple and cumple2:\n",
        "    print(\"cumple\")\n",
        "  else:\n",
        "    print(\"no cumple\")"
      ],
      "metadata": {
        "colab": {
          "base_uri": "https://localhost:8080/"
        },
        "id": "5myf1vaeNQbT",
        "outputId": "142adeeb-b99c-40f5-f994-7f8ddb96a452"
      },
      "execution_count": null,
      "outputs": [
        {
          "output_type": "stream",
          "name": "stdout",
          "text": [
            "ingrese la contra:    dosdosdos*9\n",
            "cumple\n"
          ]
        }
      ]
    },
    {
      "cell_type": "markdown",
      "source": [
        "El programa debe informar al usuario si la contraseña cumple con estos requisitos de seguridad o no."
      ],
      "metadata": {
        "id": "qU1sOJVwloQz"
      }
    },
    {
      "cell_type": "markdown",
      "source": [
        "**Ejercicio 4.**\n",
        "Escribir un programa para una empresa que tiene salas de juegos para todas las edades y quiere calcular de forma automática el precio que debe cobrar a sus clientes por entrar. El programa debe preguntar al usuario la edad del cliente y mostrar el precio de la entrada. Si el cliente es menor de 4 años puede entrar gratis, si tiene entre 4 y 18 años debe pagar 500 pesos y si es mayor de 18 años, 800 pesos."
      ],
      "metadata": {
        "id": "ymmSdBfMf0w2"
      }
    },
    {
      "cell_type": "code",
      "source": [
        "if edad < 4:\n",
        "  print(\"gratis\")\n",
        "elif edad<=18:\n",
        "  print(\"500\")\n",
        "else:\n",
        "  print(\"paga 800\")"
      ],
      "metadata": {
        "id": "EL1w2Za9f2MW"
      },
      "execution_count": null,
      "outputs": []
    },
    {
      "cell_type": "markdown",
      "source": [
        "####**Ejercicio 5.**\n",
        "Dados 3 lados de un triángulo, informar si el mismo es equilátero, isósceles o escaleno."
      ],
      "metadata": {
        "id": "Ac5aVPsmrvGV"
      }
    },
    {
      "cell_type": "code",
      "source": [
        "lado1=input(\"dame el lado 1: \")\n",
        "lado2=input(\"dame el lado 2: \")\n",
        "lado3=input(\"dame el lado 3: \")\n",
        "\n",
        "if lado1==lado2==lado3:\n",
        "  print(\"equilatero\")\n",
        "elif lado1==lado2 or lado1==lado3 or lado2==lado3:\n",
        "  print(\"isosceles\")\n",
        "else:\n",
        "  print(\"escaleno\")"
      ],
      "metadata": {
        "id": "O-ji4HbUsNXT",
        "colab": {
          "base_uri": "https://localhost:8080/"
        },
        "outputId": "9a64b0d1-921c-4f8f-898c-f26cdf068446"
      },
      "execution_count": null,
      "outputs": [
        {
          "output_type": "stream",
          "name": "stdout",
          "text": [
            "dame el lado 1: 2\n",
            "dame el lado 2: \n",
            "dame el lado 3: \n",
            "isosceles\n"
          ]
        }
      ]
    },
    {
      "cell_type": "markdown",
      "source": [
        "resuelto como funcion:"
      ],
      "metadata": {
        "id": "xNTVEDWtI0Jj"
      }
    },
    {
      "cell_type": "code",
      "source": [
        "def clasificarTriangulo(lado1,lado2,lado3):\n",
        "  if lado1==lado2==lado3:\n",
        "    return \"equilatero\"\n",
        "  elif lado1==lado2 or lado1==lado3 or lado2==lado3:\n",
        "    return \"isosceles\"\n",
        "  else:\n",
        "    return \"escaleno\"\n",
        "\n",
        "clasificarTriangulo(3,3,3)"
      ],
      "metadata": {
        "colab": {
          "base_uri": "https://localhost:8080/",
          "height": 35
        },
        "id": "cwhFtg8zHKdU",
        "outputId": "8424e1e5-db1e-4e60-e448-07150ac5a7e4"
      },
      "execution_count": null,
      "outputs": [
        {
          "output_type": "execute_result",
          "data": {
            "text/plain": [
              "'equilatero'"
            ],
            "application/vnd.google.colaboratory.intrinsic+json": {
              "type": "string"
            }
          },
          "metadata": {},
          "execution_count": 4
        }
      ]
    },
    {
      "cell_type": "markdown",
      "source": [
        "####**Ejercicio 6.**\n",
        "Dada la nota de un parcial se quiere saber en que condición está el alumno.\n",
        "\n",
        "* Si la nota no está entre 0 y 10: 'nota inválida'.\n",
        "* Si la nota es mayor o igual a 0 y menor a 6: 'desaprobado'.\n",
        "* Si la nota es mayor igual a 6 se debe mostrar en pantalla un mensaje que diga 'aprobado'."
      ],
      "metadata": {
        "id": "k17LA22lsOHs"
      }
    },
    {
      "cell_type": "code",
      "source": [
        "nota= int(input(\"nota=  \"))\n",
        "\n",
        "if 0<=nota<6:\n",
        "  print(\"desaprobado\")\n",
        "elif 6<=nota<=10:\n",
        "  print(\"aprobado\")\n",
        "else:\n",
        "  print(\"nota invalida\")"
      ],
      "metadata": {
        "id": "lVi-hkADsSbz",
        "colab": {
          "base_uri": "https://localhost:8080/"
        },
        "outputId": "81b3109a-b751-436b-f3d9-bb28361234b0"
      },
      "execution_count": null,
      "outputs": [
        {
          "output_type": "stream",
          "name": "stdout",
          "text": [
            "nota=  153\n",
            "nota invalida\n"
          ]
        }
      ]
    },
    {
      "cell_type": "markdown",
      "source": [
        "####**Ejercicio 7.**\n",
        "\n",
        "Una marca de ropa tienen descuentos diferentes dependiendo de la sede del local:\n",
        "\n",
        "| Item        | Rosario | Funes  | Roldan |\n",
        "| ----------- | ------- | ------ | ------ |\n",
        "| Zapatillas  | 30%     | 40%    | 25%    |\n",
        "| Remeras     | 20%     | 30%    | 15%    |\n",
        "| Pantalones  | 10%     | 5%     | 20%    |\n",
        "\n",
        "\n",
        "Dado un item y la sede del local, devolver el descuento que recibe."
      ],
      "metadata": {
        "id": "0_vkIwDzmwjK"
      }
    },
    {
      "cell_type": "code",
      "source": [
        "item = input(\"ingrese un item\")\n",
        "sede = input(\"ingrese una sede\")\n"
      ],
      "metadata": {
        "id": "SBfHoTlGrg5M"
      },
      "execution_count": null,
      "outputs": []
    },
    {
      "cell_type": "markdown",
      "source": [
        "####**Ejercicio 8.**\n",
        "\n",
        "Ahora, supongamos que además dependiendo del día de la semana se puede recibir un descuento adicional acumulable. Es decir, si se recibió un descuento del 10 % según el item y la sede y la compra\n",
        "se realiza un lunes, el descuento total será un 20 % .\n",
        "Escribir un programa en el que la persona pueda ingresar el día de la semana, el item a comprar y la sede del local. Luego, informar el descuento total a recibir. Utilizar la siguiente tabla de descuentos:\n",
        "\n",
        "|         | Lunes  | Miércoles | Jueves |\n",
        "|---------|-------|-----------|--------|\n",
        "| Descuento | 10%   | 8%        | 5%     |\n"
      ],
      "metadata": {
        "id": "PeES9HB8ndq6"
      }
    },
    {
      "cell_type": "code",
      "source": [],
      "metadata": {
        "id": "gXTTgMccq-pX"
      },
      "execution_count": null,
      "outputs": []
    }
  ]
}