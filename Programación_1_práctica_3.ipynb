{
  "nbformat": 4,
  "nbformat_minor": 0,
  "metadata": {
    "colab": {
      "provenance": [],
      "include_colab_link": true
    },
    "kernelspec": {
      "name": "python3",
      "display_name": "Python 3"
    },
    "language_info": {
      "name": "python"
    }
  },
  "cells": [
    {
      "cell_type": "markdown",
      "metadata": {
        "id": "view-in-github",
        "colab_type": "text"
      },
      "source": [
        "<a href=\"https://colab.research.google.com/github/CruzElizorios/aprendiendo-python/blob/main/Programaci%C3%B3n_1_pr%C3%A1ctica_3.ipynb\" target=\"_parent\"><img src=\"https://colab.research.google.com/assets/colab-badge.svg\" alt=\"Open In Colab\"/></a>"
      ]
    },
    {
      "cell_type": "markdown",
      "source": [
        "# Unidad 4 | Construcciones iterativas\n",
        "Concepto de bucle. Sentencia for. Sentencia while. Ciclos definidos. Sentencia range. Ciclos indefinidos. Ciclo interactivo. Ciclo con centinela. Control de ciclos: sentencias break, continue y pass."
      ],
      "metadata": {
        "id": "ycTC5aVYw1m7"
      }
    },
    {
      "cell_type": "markdown",
      "source": [
        "####**Ejercicio 1.**\n",
        "Imprimir los primeros 20 números naturales.\n"
      ],
      "metadata": {
        "id": "bEMAv8ioYHWV"
      }
    },
    {
      "cell_type": "code",
      "source": [
        "num= 0\n",
        "while(num<20):\n",
        "  num+=1\n",
        "  print(num)"
      ],
      "metadata": {
        "id": "VKIcJ30UZcQ5",
        "colab": {
          "base_uri": "https://localhost:8080/"
        },
        "outputId": "a5da954a-1015-4236-eb33-aeb6d5829d0c"
      },
      "execution_count": null,
      "outputs": [
        {
          "output_type": "stream",
          "name": "stdout",
          "text": [
            "1\n",
            "2\n",
            "3\n",
            "4\n",
            "5\n",
            "6\n",
            "7\n",
            "8\n",
            "9\n",
            "10\n",
            "11\n",
            "12\n",
            "13\n",
            "14\n",
            "15\n",
            "16\n",
            "17\n",
            "18\n",
            "19\n",
            "20\n"
          ]
        }
      ]
    },
    {
      "cell_type": "markdown",
      "source": [
        "####**Ejercicio 2.**\n",
        "Imprimir la tabla de multiplicar del número 5."
      ],
      "metadata": {
        "id": "rn5V2lbtYcfZ"
      }
    },
    {
      "cell_type": "code",
      "source": [
        "for num in range(0,10):\n",
        "  num+=1\n",
        "  num*=5\n",
        "  print(num)\n"
      ],
      "metadata": {
        "colab": {
          "base_uri": "https://localhost:8080/"
        },
        "id": "R7UPqNfK_37-",
        "outputId": "97b637f9-fd15-43c6-abfd-d438f84b84f1"
      },
      "execution_count": null,
      "outputs": [
        {
          "output_type": "stream",
          "name": "stdout",
          "text": [
            "5\n",
            "10\n",
            "15\n",
            "20\n",
            "25\n",
            "30\n",
            "35\n",
            "40\n",
            "45\n",
            "50\n"
          ]
        }
      ]
    },
    {
      "cell_type": "markdown",
      "source": [
        "una manera"
      ],
      "metadata": {
        "id": "7zUqgV2U_4d0"
      }
    },
    {
      "cell_type": "code",
      "source": [
        "num= 0\n",
        "while(num<50):\n",
        "  num+=5\n",
        "  print(num)"
      ],
      "metadata": {
        "id": "s_3XepimZcze",
        "colab": {
          "base_uri": "https://localhost:8080/"
        },
        "outputId": "518cda85-3e98-49be-d623-a2845401241c"
      },
      "execution_count": null,
      "outputs": [
        {
          "output_type": "stream",
          "name": "stdout",
          "text": [
            "5\n",
            "10\n",
            "15\n",
            "20\n",
            "25\n",
            "30\n",
            "35\n",
            "40\n",
            "45\n",
            "50\n"
          ]
        }
      ]
    },
    {
      "cell_type": "markdown",
      "source": [
        "####**Ejercicio 3.**\n",
        "Imprima los números de -10 a -1."
      ],
      "metadata": {
        "id": "lc3sMoVxYfbE"
      }
    },
    {
      "cell_type": "code",
      "source": [
        "# for num in range(-10,0):\n",
        "#   print(num)\n",
        "#tambien funciona\n",
        "for num in range(-1,-11,-1):\n",
        "  print(num)"
      ],
      "metadata": {
        "colab": {
          "base_uri": "https://localhost:8080/"
        },
        "id": "oletG3KoFfzk",
        "outputId": "c59171f3-9e26-4ff4-e815-c90bde40b30c"
      },
      "execution_count": null,
      "outputs": [
        {
          "output_type": "stream",
          "name": "stdout",
          "text": [
            "-1\n",
            "-2\n",
            "-3\n",
            "-4\n",
            "-5\n",
            "-6\n",
            "-7\n",
            "-8\n",
            "-9\n",
            "-10\n"
          ]
        }
      ]
    },
    {
      "cell_type": "code",
      "source": [
        "num= -11\n",
        "while(num<-1):\n",
        "  num+=1\n",
        "  print(num)"
      ],
      "metadata": {
        "id": "u7lH11lPZdbo",
        "colab": {
          "base_uri": "https://localhost:8080/"
        },
        "outputId": "6b7a54c2-a68d-4045-eedd-81b6dd132b1d"
      },
      "execution_count": null,
      "outputs": [
        {
          "output_type": "stream",
          "name": "stdout",
          "text": [
            "-10\n",
            "-9\n",
            "-8\n",
            "-7\n",
            "-6\n",
            "-5\n",
            "-4\n",
            "-3\n",
            "-2\n",
            "-1\n"
          ]
        }
      ]
    },
    {
      "cell_type": "markdown",
      "source": [
        "####**Ejercicio 4.**\n",
        "Dada la siguiente secuencia de números:\n",
        "\n",
        "```python\n",
        "numeros = [12 , 75 , 150 , 180 , 145 , 525 , 50]\n",
        "```\n",
        "imprimir aquellos divisibles por 5 y menores a 150."
      ],
      "metadata": {
        "id": "vfuXwZ5qYhUx"
      }
    },
    {
      "cell_type": "code",
      "source": [
        "numeros = [12 , 75 , 150 , 180 , 145 , 525 , 50]\n",
        "for num in numeros:\n",
        "  if(num%5==0 and num<150):\n",
        "    print(num)"
      ],
      "metadata": {
        "id": "xUZQuAfkZeFi",
        "colab": {
          "base_uri": "https://localhost:8080/"
        },
        "outputId": "4ecfddef-f0ca-44e5-8cdd-5555ea70f28c"
      },
      "execution_count": null,
      "outputs": [
        {
          "output_type": "stream",
          "name": "stdout",
          "text": [
            "75\n",
            "145\n",
            "50\n"
          ]
        }
      ]
    },
    {
      "cell_type": "markdown",
      "source": [
        "####**Ejercicio 5.**\n",
        "Imprimir los primeros 10 valores de la secuencia de Fibonacci. La secuencia de Fibonacci es una serie\n",
        "de números en la cual los dos primeros números son 0 y 1, y el siguiente número se corresponde a la\n",
        "suma de los dos números anteriores.\n",
        "Resultado esperado: 0 1 1 2 3 5 8 13 21 34"
      ],
      "metadata": {
        "id": "Fnu8NoZIYjO6"
      }
    },
    {
      "cell_type": "code",
      "source": [
        "a=0\n",
        "b=1\n",
        "for num in range(0,10):\n",
        "  if(num==0):\n",
        "    print(a)\n",
        "    print(b)\n",
        "  b=num+1\n",
        "  print(b)"
      ],
      "metadata": {
        "id": "Z9Psha73ZegV"
      },
      "execution_count": null,
      "outputs": []
    },
    {
      "cell_type": "code",
      "source": [
        "# a, b= 0 , 1\n",
        "a = 0\n",
        "b = 1\n",
        "\n",
        "for num in range(1, 11) :\n",
        "  print(a)\n",
        "  #a, b = (b, a + b)\n",
        "  # paso a paso\n",
        "  b = a + b\n",
        "  a = b\n"
      ],
      "metadata": {
        "id": "Sqw3JoVqS1HO"
      },
      "execution_count": null,
      "outputs": []
    },
    {
      "cell_type": "markdown",
      "source": [
        "**Explicacion del ejercicio 5**"
      ],
      "metadata": {
        "id": "H2Fmx_xcqz5w"
      }
    },
    {
      "cell_type": "code",
      "source": [
        "def fib_imprimir(n:int) -> None:\n",
        "  if(n==1):\n",
        "    print(0)\n",
        "    return\n",
        "  fib1 = 0\n",
        "  fib2 = 1\n",
        "  for num in range(0,n):\n",
        "    print(fib1)\n",
        "    temp = fib2\n",
        "    fib3 = fib1 + fib2\n",
        "    fib2 = fib3\n",
        "    fib1 = temp\n",
        "\n",
        "fib_imprimir(10)"
      ],
      "metadata": {
        "colab": {
          "base_uri": "https://localhost:8080/"
        },
        "id": "ZWcfMVAQq6JH",
        "outputId": "f9a90515-e0d5-4b72-dc64-24b1270ddca8"
      },
      "execution_count": null,
      "outputs": [
        {
          "output_type": "stream",
          "name": "stdout",
          "text": [
            "0\n",
            "1\n",
            "1\n",
            "2\n",
            "3\n",
            "5\n",
            "8\n",
            "13\n",
            "21\n",
            "34\n"
          ]
        }
      ]
    },
    {
      "cell_type": "markdown",
      "source": [
        "####**Ejercicio 6.**\n",
        "Imprimir el valor factorial del número 5 usando un bucle. El valor factorial (símbolo: !) se obtiene de\n",
        "multiplicar todos los números enteros desde el número elegido hasta 1.\n",
        "Resultado esperado: 120"
      ],
      "metadata": {
        "id": "PPWUyzpOYmUQ"
      }
    },
    {
      "cell_type": "code",
      "source": [
        "num=1\n",
        "for i in range(1,6):\n",
        "  num= num *(i)\n",
        "print(num)"
      ],
      "metadata": {
        "colab": {
          "base_uri": "https://localhost:8080/"
        },
        "id": "l7Gbdcng--PX",
        "outputId": "8e8db85e-515b-45f3-d5cc-e78ac3d31878"
      },
      "execution_count": null,
      "outputs": [
        {
          "output_type": "stream",
          "name": "stdout",
          "text": [
            "120\n"
          ]
        }
      ]
    },
    {
      "cell_type": "markdown",
      "source": [
        "####**Ejercicio 7.**\n",
        "Explique el resultado de los siguientes programas\n",
        "```python\n",
        "a.  lista = []\n",
        "    for j in lista :\n",
        "        print ( j )\n",
        "```\n",
        "```python\n",
        "b.  i = 1\n",
        "    for i in [1 , 2 , 3]:\n",
        "      print ( i )\n",
        "    print ( i )\n",
        "```"
      ],
      "metadata": {
        "id": "G8VjXb2aYoH9"
      }
    },
    {
      "cell_type": "markdown",
      "source": [
        "no devuelve nada porque el nunca entra a recorrer el for debido a que es una lista vacia⤵"
      ],
      "metadata": {
        "id": "omHTmHjV_7nV"
      }
    },
    {
      "cell_type": "code",
      "source": [
        "lista = []\n",
        "for j in lista :\n",
        "    print ( j )"
      ],
      "metadata": {
        "id": "uxr2MEeyZf14"
      },
      "execution_count": null,
      "outputs": []
    },
    {
      "cell_type": "markdown",
      "source": [
        "el for reescribe el valor de i, tomando los valores de la lista y despues sale con el valor que quedo al final⤵"
      ],
      "metadata": {
        "id": "hBpH241bBNkc"
      }
    },
    {
      "cell_type": "code",
      "source": [
        "i = 1\n",
        "for i in [1 , 2 , 5]:\n",
        "    print ( i )\n",
        "print ( i )"
      ],
      "metadata": {
        "colab": {
          "base_uri": "https://localhost:8080/"
        },
        "id": "XvRQPyP9AnYZ",
        "outputId": "e9e22849-faca-494a-ee47-57fe1b53d813"
      },
      "execution_count": null,
      "outputs": [
        {
          "output_type": "stream",
          "name": "stdout",
          "text": [
            "1\n",
            "2\n",
            "5\n",
            "5\n"
          ]
        }
      ]
    },
    {
      "cell_type": "markdown",
      "source": [
        "####**Ejercicio 8.**\n",
        "Resuelva los siguientes ejercicios:\n",
        "\n",
        "a. Calcular el cuadrado de los primeros 10 números enteros positivos.\n",
        "\n",
        "b. Calcular la suma de los números enteros entre 0 y 100 inclusive.\n",
        "\n",
        "c. Calcular la suma de los números pares menores a 100. ¿Cuántos números pares hay menores a\n",
        "100?\n",
        "\n",
        "d. Calcular la suma de los números impares menores a 100. ¿Cuántos números impares hay menores\n",
        "a 100?"
      ],
      "metadata": {
        "id": "RhG2JGWUYpVt"
      }
    },
    {
      "cell_type": "code",
      "source": [
        "for i in range(1,11):\n",
        "  i=i**2\n",
        "  print(i)"
      ],
      "metadata": {
        "id": "j271WG01Zgi4",
        "colab": {
          "base_uri": "https://localhost:8080/"
        },
        "outputId": "1aadca17-7bf9-4fe2-d231-826c0d4cba1c"
      },
      "execution_count": null,
      "outputs": [
        {
          "output_type": "stream",
          "name": "stdout",
          "text": [
            "1\n",
            "4\n",
            "9\n",
            "16\n",
            "25\n",
            "36\n",
            "49\n",
            "64\n",
            "81\n",
            "100\n"
          ]
        }
      ]
    },
    {
      "cell_type": "markdown",
      "source": [
        "b. Calcular la suma de los números enteros entre 0 y 100 inclusive:"
      ],
      "metadata": {
        "id": "86_0r17cCGMC"
      }
    },
    {
      "cell_type": "code",
      "source": [
        "a=0\n",
        "for i in range(101):\n",
        "  a=a+i\n",
        "print(a)\n"
      ],
      "metadata": {
        "colab": {
          "base_uri": "https://localhost:8080/"
        },
        "id": "qXuBIPUKCFUK",
        "outputId": "40393da4-4911-406e-c965-68a8741cbe80"
      },
      "execution_count": null,
      "outputs": [
        {
          "output_type": "stream",
          "name": "stdout",
          "text": [
            "5050\n"
          ]
        }
      ]
    },
    {
      "cell_type": "markdown",
      "source": [
        "c. Calcular la suma de los números pares menores a 100. ¿Cuántos números pares hay menores a 100?"
      ],
      "metadata": {
        "id": "yMJ4yNZIECXf"
      }
    },
    {
      "cell_type": "code",
      "source": [
        "a=0\n",
        "for i in range(2,100,2):\n",
        "  a=a+i\n",
        "  print(f\" i vale: {i}\")\n",
        "  print(a)\n",
        "\n",
        "cantidad= len(range(2,100,2))\n",
        "print(f\"hay {cantidad} numeros pares\")"
      ],
      "metadata": {
        "id": "eYX0BRKCEEo3"
      },
      "execution_count": null,
      "outputs": []
    },
    {
      "cell_type": "markdown",
      "source": [
        "funciona para sumar todos los numeros pares hasta un determinado numero**⤵**"
      ],
      "metadata": {
        "id": "XU_Bu3PPQsWy"
      }
    },
    {
      "cell_type": "code",
      "source": [
        "\n",
        "def verificarSiPar(num):\n",
        "  if(num%2!=0):\n",
        "    a=num+1\n",
        "    return a\n",
        "  else:\n",
        "    return num\n",
        "\n",
        "def sumarNumPar (inicio:int,final:int)->int:\n",
        "  inicio = verificarSiPar(inicio)\n",
        "  a=0\n",
        "  for i in range(inicio,final,2):\n",
        "    a=a+i\n",
        "    # print(f\" i vale: {i}\")\n",
        "    # print(a)\n",
        "  return print(f\"La suma total es: {a}\")\n",
        "\n",
        "sumarNumPar(2,100)"
      ],
      "metadata": {
        "colab": {
          "base_uri": "https://localhost:8080/"
        },
        "id": "hbVyVUzWM4l7",
        "outputId": "69a42ad8-735b-4486-e90e-336d4b5623cd"
      },
      "execution_count": null,
      "outputs": [
        {
          "output_type": "stream",
          "name": "stdout",
          "text": [
            "La suma total es: 2450\n"
          ]
        }
      ]
    },
    {
      "cell_type": "markdown",
      "source": [
        "d.Calcular la suma de los números impares menores a 100. ¿Cuántos números impares hay menores a 100?"
      ],
      "metadata": {
        "id": "UYgFQvWoRFGp"
      }
    },
    {
      "cell_type": "code",
      "source": [
        "a=0\n",
        "for i in range(1,100,2):\n",
        "  a=a+i\n",
        "  #estos print sirver para ver que numero se esta sumando\n",
        "  # print(f\" i vale: {i}\")\n",
        "  # print(a)\n",
        "print(f\"La suma total es: {a}\")\n",
        "cantidad= len(range(1,100,2))\n",
        "print(f\"hay {cantidad} numeros impares\")"
      ],
      "metadata": {
        "colab": {
          "base_uri": "https://localhost:8080/"
        },
        "id": "FWM7JuFmREeB",
        "outputId": "5013cbf8-23e2-45ea-f0ee-00978bfb4d67"
      },
      "execution_count": null,
      "outputs": [
        {
          "output_type": "stream",
          "name": "stdout",
          "text": [
            "La suma total es: 2500\n",
            "hay 50 numeros pares\n"
          ]
        }
      ]
    },
    {
      "cell_type": "markdown",
      "source": [
        "####**Ejercicio 9.**\n",
        "¿Cuál es el problema asociado al siguiente programa? No hace falta ejecutarlo para responder esta pregunta.\n",
        "\n",
        "```python\n",
        "x = 0\n",
        "while x < 5:\n",
        "    print ( x )\n",
        "```"
      ],
      "metadata": {
        "id": "G9wxFsZkYq1U"
      }
    },
    {
      "cell_type": "markdown",
      "source": [
        "siempre va a imprimir cero en pantalla"
      ],
      "metadata": {
        "id": "p2K4uwODR2pU"
      }
    },
    {
      "cell_type": "markdown",
      "source": [
        "####**Ejercicio 10.**\n",
        "Escriba un programa que dada una secuencia de números y un valor de umbral vaya sumando los\n",
        "números de la secuencia hasta que la suma alcance el umbral. Utilice ```break``` para terminar la ejecución\n",
        "del bucle cuando la suma alcance el umbral.\n",
        "\n",
        "Resultados esperados:\n",
        "```python\n",
        "umbral = 21\n",
        "valores = [3 , 5 , 4 , 4 , 5 , 5 , 3 , 5 , 2 , 7]\n",
        "# suma -> 21\n",
        "\n",
        "umbral = 34\n",
        "valores = [3 , 5 , 4 , 4 , 5 , 5 , 3 , 5 , 2 , 7]\n",
        "# suma -> 34\n",
        "\n",
        "umbral = 100\n",
        "valores = [3 , 5 , 4 , 4 , 5 , 5 , 3 , 5 , 2 , 7]\n",
        "# suma -> 43\n",
        "```"
      ],
      "metadata": {
        "id": "EXh6AanSYsBJ"
      }
    },
    {
      "cell_type": "code",
      "source": [
        "umbral = 21\n",
        "valores = [3 , 5 , 4 , 4 , 5 , 5 , 3 , 5 , 2 , 7]\n",
        "a=0\n",
        "for i in valores:\n",
        "  a = a+i\n",
        "  print(a)\n",
        "  if(a>=umbral):\n",
        "    print(a)\n",
        "    break\n"
      ],
      "metadata": {
        "id": "r0I-3N2PZjTQ",
        "colab": {
          "base_uri": "https://localhost:8080/"
        },
        "outputId": "df1f932d-b281-4980-b089-91922ad2f3bd"
      },
      "execution_count": null,
      "outputs": [
        {
          "output_type": "stream",
          "name": "stdout",
          "text": [
            "3\n",
            "8\n",
            "12\n",
            "16\n",
            "21\n",
            "21\n"
          ]
        }
      ]
    },
    {
      "cell_type": "code",
      "source": [
        "# valor = [3 , 5 , 4 , 4 , 5 , 5 , 3 , 5 , 2 , 7]\n",
        "\n",
        "def sumaHasta(limite, lista):\n",
        "  umbral = limite\n",
        "  valores = lista\n",
        "  a=0\n",
        "  for i in valores:\n",
        "    a = a+i\n",
        "    print(a)\n",
        "    if(a>=umbral):\n",
        "      break\n",
        "\n",
        "sumaHasta(45,[3 , 5 , 4 , 4 , 5 , 5 , 3 , 5 , 2 , 7])"
      ],
      "metadata": {
        "colab": {
          "base_uri": "https://localhost:8080/"
        },
        "id": "jZ6YeT98Ujtq",
        "outputId": "cb65d241-f5fd-416c-e0ed-0fcf09ccdae3"
      },
      "execution_count": null,
      "outputs": [
        {
          "output_type": "stream",
          "name": "stdout",
          "text": [
            "3\n",
            "8\n",
            "12\n",
            "16\n",
            "21\n",
            "26\n",
            "29\n",
            "34\n",
            "36\n",
            "43\n"
          ]
        }
      ]
    },
    {
      "cell_type": "markdown",
      "source": [
        "####**Ejercicio 11.**\n",
        "Escriba un programa que dada una secuencia numérica compute la suma de los números pares. Utilice\n",
        "un bucle ```while``` y la sentencia ```continue``` para saltear los casos donde el número no sea par.\n",
        "\n",
        "Resultados esperados:\n",
        "\n",
        "```python\n",
        "valores = [1 , 2 , 3 , 4 , 5 , 6 , 7 , 8 , 9 , 10]\n",
        "# suma -> 30\n",
        "\n",
        "valores = [1 , 4 , 7 , 10]\n",
        "# suma -> 14\n",
        "```"
      ],
      "metadata": {
        "id": "ky5BFKmfYtWh"
      }
    },
    {
      "cell_type": "code",
      "source": [
        "valores = [1 , 2 , 3 , 4 , 5 , 6 , 7 , 8 , 9 , 10, 11,12]\n",
        "n= 0\n",
        "a=0\n",
        "umbral = 100\n",
        "while a < len(valores):\n",
        "  if(valores[a]%2!=0):\n",
        "    a+=1\n",
        "    continue\n",
        "  else:\n",
        "    n += valores[a]\n",
        "    print(f\"el valor de A es: {a}\")\n",
        "    a+=1\n",
        "    if(n>umbral):\n",
        "      break\n",
        "    print(n)\n",
        "\n"
      ],
      "metadata": {
        "id": "7ki86azSZj87",
        "colab": {
          "base_uri": "https://localhost:8080/"
        },
        "outputId": "5b33162b-e013-4dba-e4ab-a019c663ddea"
      },
      "execution_count": null,
      "outputs": [
        {
          "output_type": "stream",
          "name": "stdout",
          "text": [
            "el valor de A es: 1\n",
            "2\n",
            "el valor de A es: 3\n",
            "6\n",
            "el valor de A es: 5\n",
            "12\n",
            "el valor de A es: 7\n",
            "20\n",
            "el valor de A es: 9\n",
            "30\n",
            "el valor de A es: 11\n",
            "42\n"
          ]
        }
      ]
    },
    {
      "cell_type": "code",
      "source": [
        "valores = [1 , 2 , 3 , 4 , 5 , 6 , 7 , 8 , 9 , 10]\n",
        "valores[5]"
      ],
      "metadata": {
        "colab": {
          "base_uri": "https://localhost:8080/"
        },
        "id": "HTopTki82GFK",
        "outputId": "a4ee402a-675c-4aaa-fa46-667cf9eeeea6"
      },
      "execution_count": null,
      "outputs": [
        {
          "output_type": "execute_result",
          "data": {
            "text/plain": [
              "6"
            ]
          },
          "metadata": {},
          "execution_count": 34
        }
      ]
    },
    {
      "cell_type": "code",
      "source": [
        "umbral = 21\n",
        "valores = [1 , 2 , 3 , 4 , 5 , 6 , 7 , 8 , 9 , 10]\n",
        "a=0\n",
        "for i in valores:\n",
        "  a = a+i\n",
        "  print(a)\n",
        "  if(a>=umbral):\n",
        "    print(a)\n",
        "    break"
      ],
      "metadata": {
        "id": "JLLOr3F216wH"
      },
      "execution_count": null,
      "outputs": []
    },
    {
      "cell_type": "markdown",
      "source": [
        "####**Ejercicio 12.**\n",
        "Escriba un programa que solicite un número entero al usuario y compute la suma de todos los números\n",
        "naturales menores a él. Este programa debe ser interactivo. Es decir, el programa solicita un numero al usuario, devuelve la suma, y solicita un nuevo número. Esto continúa así hasta que el usuario ingresa ```\"salir\"```, determinando que el programa debe terminar. Utilice un bucle ```while``` para resolver este problema. Tenga en cuenta la sentencia ```break``` para determinar la interrupción del bucle.\n",
        "Ejemplos:\n",
        "\n",
        "```python\n",
        "Ingrese un número o 'salir' para terminar : 10\n",
        "La suma es 45\n",
        "Ingrese un número o 'salir' para terminar : 50\n",
        "La suma es 1225\n",
        "Ingrese un número o 'salir' para terminar : salir\n",
        "```\n"
      ],
      "metadata": {
        "id": "BKCmZRcsYupZ"
      }
    },
    {
      "cell_type": "code",
      "source": [
        "entrada = input(\"ingrese un nro o salir: \")\n",
        "while entrada !=\"salir\":\n",
        "  numero= int(entrada)\n",
        "  a=0\n",
        "  for i in range (1,numero):\n",
        "    a+=i\n",
        "  print(f\"La suma es {a}\")\n",
        "  entrada = input (\"ingrese un nro o salir: \")\n"
      ],
      "metadata": {
        "id": "l_f6T2UzZkpO",
        "colab": {
          "base_uri": "https://localhost:8080/"
        },
        "outputId": "d24aac2c-39b6-4763-fa7e-4ed7989b6815"
      },
      "execution_count": null,
      "outputs": [
        {
          "name": "stdout",
          "output_type": "stream",
          "text": [
            "ingrese un nro o salir: 10\n",
            "La suma es 45\n",
            "ingrese un nro o salir: salir\n"
          ]
        }
      ]
    },
    {
      "cell_type": "markdown",
      "source": [
        "####**Ejercicio 13.**\n",
        "Una mañana ponés un billete en la vereda al lado del Monumento a la Bandera. A partir de ahí, cada\n",
        "día vas y duplicás la cantidad de billetes, apilándolos prolijamente. ¿Cuánto tiempo pasa antes de que la pila de billetes sea más alta que la del Monumento? Considere los siguientes valores para comenzar a resolver el problema:\n",
        "\n",
        "```python\n",
        "billete_grosor = 0.11 * 0.001  # grosor de un billete en metros\n",
        "altura_monumento = 70 # altura en metros\n",
        "billetes_n = 1\n",
        "dia = 1\n",
        "```\n",
        "\n",
        "Utilice un bucle ```while``` para resolver el problema."
      ],
      "metadata": {
        "id": "yC69ZQ4HYvwk"
      }
    },
    {
      "cell_type": "code",
      "source": [
        "billete_grosor = 0.11 * 0.001  # grosor de un billete en metros\n",
        "altura_monumento = 70 # altura en metros\n",
        "billetes_n = 1\n",
        "dia = 1\n",
        "\n"
      ],
      "metadata": {
        "id": "dPNpXIoUZlWC"
      },
      "execution_count": null,
      "outputs": []
    },
    {
      "cell_type": "markdown",
      "source": [
        "####**Ejercicio 14.**\n",
        "\n",
        "Escriba un programa que reciba dos números como parámetros, y compute cuántos múltiplos del primero\n",
        "hay, que sean menores que el segundo.\n",
        "\n",
        "a. Implementarla utilizando un ciclo for, desde el primer número hasta el segundo.\n",
        "\n",
        "b. Implementarla utilizando un ciclo while, que multiplique el primer número hasta que sea mayor\n",
        "que el segundo.\n",
        "\n",
        "c. Comparar ambas implementaciones: ¿Cuál es más clara? ¿Cuál realiza menos operaciones?"
      ],
      "metadata": {
        "id": "MxwwrLOmYwy0"
      }
    },
    {
      "cell_type": "code",
      "source": [],
      "metadata": {
        "id": "sBm3I1tKZmAG"
      },
      "execution_count": null,
      "outputs": []
    },
    {
      "cell_type": "markdown",
      "source": [
        "####**Ejercicio 15.**\n",
        "Escribir un programa que tome como argumento una contraseña y verifique si coincide con 'Toto123'."
      ],
      "metadata": {
        "id": "f8JBB9_p0rLp"
      }
    },
    {
      "cell_type": "code",
      "source": [],
      "metadata": {
        "id": "nSBqNS9dZuOp"
      },
      "execution_count": null,
      "outputs": []
    },
    {
      "cell_type": "markdown",
      "source": [
        "**Ejercicio 15.1** Modificar el programa anterior para que, en caso de que la contraseña ingresada sea incorrecta, vuelva a pedirla hasta que el usuario la ingrese correctamente."
      ],
      "metadata": {
        "id": "mCZp55DHzkj7"
      }
    },
    {
      "cell_type": "code",
      "source": [],
      "metadata": {
        "id": "JCybALOkZa4e"
      },
      "execution_count": null,
      "outputs": []
    },
    {
      "cell_type": "markdown",
      "source": [
        "**Ejercicio 15.2** Restringir el programa para que sólo se pueda ingresar 3 veces mal la contraseña, si pasa eso, mostrar un mensaje indicando que se bloqueó la cuenta."
      ],
      "metadata": {
        "id": "-sQ6m5AA1xzk"
      }
    },
    {
      "cell_type": "code",
      "source": [],
      "metadata": {
        "id": "bViTcZdDZaNx"
      },
      "execution_count": null,
      "outputs": []
    }
  ]
}