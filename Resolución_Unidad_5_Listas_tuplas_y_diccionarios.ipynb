{
  "cells": [
    {
      "cell_type": "markdown",
      "metadata": {
        "id": "view-in-github",
        "colab_type": "text"
      },
      "source": [
        "<a href=\"https://colab.research.google.com/github/CruzElizorios/aprendiendo-python/blob/main/Resoluci%C3%B3n_Unidad_5_Listas_tuplas_y_diccionarios.ipynb\" target=\"_parent\"><img src=\"https://colab.research.google.com/assets/colab-badge.svg\" alt=\"Open In Colab\"/></a>"
      ]
    },
    {
      "cell_type": "markdown",
      "id": "975346ff",
      "metadata": {
        "id": "975346ff"
      },
      "source": [
        "# Unidad 5 | Listas, tuplas y diccionarios\n",
        "Concepto de \"estructuras de datos\". Creación y uso de listas. Creación y uso de tuplas. Índices y slicing. Creación y uso de diccionarios. Operadores y métodos."
      ]
    },
    {
      "cell_type": "markdown",
      "id": "62ce5593",
      "metadata": {
        "id": "62ce5593"
      },
      "source": [
        "## Listas\n",
        "\n",
        "*   Son mutables, ya que sus elementos pueden ser modificados.\n",
        "*   Son dinámicas, ya que se pueden añadir o eliminar elementos.\n",
        "*   Son ordenadas, mantienen el orden en el que han sido definidas.\n",
        "*   Pueden ser formadas por tipos arbitrarios.\n",
        "*   Pueden ser indexadas con [ i ].\n",
        "*   Pueden ser anidadas, es decir, incluir una dentro de la otra."
      ]
    },
    {
      "cell_type": "markdown",
      "source": [
        "Sintaxis:\n",
        "\n",
        "`nombre_lista = [int, str, list, float,...]`"
      ],
      "metadata": {
        "id": "6iFPFSaCfFPz"
      },
      "id": "6iFPFSaCfFPz"
    },
    {
      "cell_type": "markdown",
      "source": [
        "### Práctica de Listas"
      ],
      "metadata": {
        "id": "eXWn6UPGhCe-"
      },
      "id": "eXWn6UPGhCe-"
    },
    {
      "cell_type": "markdown",
      "id": "6df460bc",
      "metadata": {
        "id": "6df460bc"
      },
      "source": [
        "**Ejercicio 1.** Escriba una función que reciba una lista de números calcule la suma acumulada de sus elementos y la devuelva. Es decir, una nueva lista donde el primer elemento es el mismo que en la lista original, el segundo elemento es la suma del primer y segundo elemento de la lista original, el tercer elemento es la suma del resultado anterior con el tercer elemento de la lista original y así sucesivamente. Por ejemplo, dada la lista [1, 2, 3], la suma acumulada debería ser [1, 3, 6]."
      ]
    },
    {
      "cell_type": "code",
      "source": [
        "lista= [1,2,3]\n",
        "def sumarAcum (lista_num:list)->list:\n",
        "  a=0\n",
        "  nueva_lista=[]\n",
        "  for num in lista_num:\n",
        "    a+=num #a = a + num\n",
        "    nueva_lista.append(a)\n",
        "  return nueva_lista\n",
        "\n",
        "sumarAcum(lista)"
      ],
      "metadata": {
        "id": "wgiefvVzh8Sp",
        "colab": {
          "base_uri": "https://localhost:8080/"
        },
        "outputId": "a06e4ab3-dc21-4dc5-9bdc-079ff774c3e0"
      },
      "id": "wgiefvVzh8Sp",
      "execution_count": null,
      "outputs": [
        {
          "output_type": "execute_result",
          "data": {
            "text/plain": [
              "[1, 3, 6]"
            ]
          },
          "metadata": {},
          "execution_count": 1
        }
      ]
    },
    {
      "cell_type": "markdown",
      "source": [
        "**Formas de iterar una lista, tupla, diccionario**"
      ],
      "metadata": {
        "id": "jf2HTAtSQ7Ju"
      },
      "id": "jf2HTAtSQ7Ju"
    },
    {
      "cell_type": "code",
      "source": [
        "lista = [('valentina','ferrini'), (\"tomas\" , \"castro\")]\n",
        "\n",
        "#forma 1 indice\n",
        "for indice in range(len(lista)):\n",
        "  #print(indice) #0\n",
        "  #print(lista[indice]) #(\"valentina\", \"ferrini\"),(\"tomas\" , \"castro\")\n",
        "  print(f\"El profesor n {indice} se llama: {lista[indice][0]} y su apellido {lista[indice][1]}\")\n",
        "\n",
        "#forma 2\n",
        "for valor in lista: # for <iterador> in <iterable>:\n",
        "  print(valor) #muestra esto: ('valentina','ferrini'), (\"tomas\" , \"castro\")\n",
        "\n",
        "#forma 3\n",
        "for indice, valor in enumerate(lista):\n",
        "  print(f\"el profesor n {indice} se llama: {valor[0]} y se apellida {valor[1]} \")"
      ],
      "metadata": {
        "colab": {
          "base_uri": "https://localhost:8080/"
        },
        "id": "gx2JgOgeLUmL",
        "outputId": "f38ef6d1-2e89-4b3c-dde8-472b6bbcb79d"
      },
      "id": "gx2JgOgeLUmL",
      "execution_count": null,
      "outputs": [
        {
          "output_type": "stream",
          "name": "stdout",
          "text": [
            "El profesor n 0 se llama: valentina y su apellido ferrini\n",
            "El profesor n 1 se llama: tomas y su apellido castro\n",
            "('valentina', 'ferrini')\n",
            "('tomas', 'castro')\n",
            "el profesor n 0 se llama: valentina y se apellida ferrini \n",
            "el profesor n 1 se llama: tomas y se apellida castro \n"
          ]
        }
      ]
    },
    {
      "cell_type": "markdown",
      "id": "a1864932",
      "metadata": {
        "id": "a1864932"
      },
      "source": [
        "**Ejercicio 2.** Genere una lista llamada datosPersonales, mediante el uso de un bucle donde en cada iteración se pida un solo dato de los siguientes: Nombre, Apellido, Localidad, Edad, DNI, Carrera en curso, año de inicio de la carrera. Luego, imprima por pantalla la lista con los datos completados. (Ingrese las palabras como cadenas y los números como enteros)"
      ]
    },
    {
      "cell_type": "code",
      "source": [
        "def cargaDatos()->list[str|int]:\n",
        "  \"\"\"crea una lista con datos personales de una\n",
        "  \"\"\"\n",
        "  lista_de_datos_que_necesito = ['Nombre', 'Apellido', 'Localidad','Edad','DNI', 'Carrera', 'Año de inicio']\n",
        "  datosPersonales=[]\n",
        "\n",
        "  for indice, valor in enumerate(lista_de_datos_que_necesito):\n",
        "    entrada= input(f\"agregue {valor}: \")\n",
        "\n",
        "    if(indice == 3 or indice == 4 or indice == 6):\n",
        "      entrada = int(entrada)\n",
        "\n",
        "    datosPersonales.append(entrada)\n",
        "  return datosPersonales\n",
        "\n",
        "cargaDatos()"
      ],
      "metadata": {
        "id": "F5Liysx5AQJ4",
        "colab": {
          "base_uri": "https://localhost:8080/"
        },
        "outputId": "8af803a7-99b8-4331-bbbd-ad5dfe45139d"
      },
      "id": "F5Liysx5AQJ4",
      "execution_count": null,
      "outputs": [
        {
          "name": "stdout",
          "output_type": "stream",
          "text": [
            "agregue su Nombre: Pepe\n",
            "agregue su Apellido: Perez\n",
            "agregue su Localidad: Rosario\n",
            "agregue su Edad: 43\n",
            "agregue su DNI: 52433234\n",
            "agregue su Carrera: Contador\n",
            "agregue su Año de inicio: 2023\n"
          ]
        },
        {
          "output_type": "execute_result",
          "data": {
            "text/plain": [
              "['Pepe', 'Perez', 'Rosario', 43, 52433234, 'Contador', 2023]"
            ]
          },
          "metadata": {},
          "execution_count": 2
        }
      ]
    },
    {
      "cell_type": "markdown",
      "id": "571681d6",
      "metadata": {
        "id": "571681d6"
      },
      "source": [
        "**Ejercicio 3.** Genere una lista base de datos que contenga en su interior las listas de datos personales. Luego, implemente un programa que imprima los datos personales de cada persona."
      ]
    },
    {
      "cell_type": "code",
      "source": [
        "def cargaDatos()->list[str|int]:\n",
        "  lista_de_datos_que_necesito = ['Nombre', 'Apellido', 'Localidad','Edad','DNI', 'Carrera', 'Año de inicio']\n",
        "  datosPersonales=[]\n",
        "\n",
        "  for indice, valor in enumerate(lista_de_datos_que_necesito):\n",
        "    entrada= input(f\"agregue {valor}: \")\n",
        "\n",
        "    if(indice == 3 or indice == 4 or indice == 6):\n",
        "      entrada = int(entrada)\n",
        "\n",
        "    datosPersonales.append(entrada)\n",
        "  return datosPersonales\n",
        "\n",
        "\n",
        "def agregarPersonas() -> list[str|int]:\n",
        "  baseDatos = []\n",
        "\n",
        "  while True:\n",
        "    var = input(\"¿Quiere agregar una persona a la base de datos? o Q para terminar: \")\n",
        "    if(var == \"q\" or var == \"Q\"):\n",
        "      break\n",
        "    datosPersona = cargaDatos()\n",
        "    baseDatos.append(datosPersona)\n",
        "  return baseDatos\n",
        "\n",
        "def principal() -> None:\n",
        "  \"\"\"\n",
        "  crea una lista llamada base de datos que contiene una lista con toda la informacion de la persona y imprimi en pantalla los datos las mismas\n",
        "  (ejemplo:\n",
        "  [\n",
        "    ['pedro', 'fonal', 'cordoba', 43, 23144123, 'quimica', 2109],\n",
        "    ['paula', 'rios', 'buenos aires', 32, 985738474, 'abogado', 2016]\n",
        "  ])\n",
        "  \"\"\"\n",
        "  baseDeDatos = agregarPersonas()\n",
        "\n",
        "  for persona in baseDeDatos:\n",
        "    print(f\"Nombre y Apellido: {persona[0].capitalize()} {persona[1].capitalize()}, es de la localidad de {persona[2].capitalize()}, su DNI es {persona[4]}, tiene {persona[3]} años y es estudiante de {persona[5]}, inició a cursar en {persona[6]} \")\n",
        "\n",
        "principal()"
      ],
      "metadata": {
        "id": "XxGmk1NrX_5e",
        "colab": {
          "base_uri": "https://localhost:8080/"
        },
        "outputId": "6faf4f3f-af06-4b1b-b836-7356c4490d48"
      },
      "id": "XxGmk1NrX_5e",
      "execution_count": null,
      "outputs": [
        {
          "output_type": "stream",
          "name": "stdout",
          "text": [
            "¿Quiere agregar una persona a la base de datos? o Q para terminar: si\n",
            "agregue Nombre: pepe\n",
            "agregue Apellido: argento\n",
            "agregue Localidad: buenos aires\n",
            "agregue Edad: 56\n",
            "agregue DNI: 1567894\n",
            "agregue Carrera: abogacía\n",
            "agregue Año de inicio: 2024\n",
            "¿Quiere agregar una persona a la base de datos? o Q para terminar: si\n",
            "agregue Nombre: maria\n",
            "agregue Apellido: alvarez\n",
            "agregue Localidad: cordoba\n",
            "agregue Edad: 34\n",
            "agregue DNI: 24536453\n",
            "agregue Carrera: ingeniería química\n",
            "agregue Año de inicio: 2020\n",
            "¿Quiere agregar una persona a la base de datos? o Q para terminar: si\n",
            "agregue Nombre: claudia\n",
            "agregue Apellido: perez zunmo\n",
            "agregue Localidad: risario\n",
            "agregue Edad: 22\n",
            "agregue DNI: 4536723\n",
            "agregue Carrera: diseño\n",
            "agregue Año de inicio: 2017\n",
            "¿Quiere agregar una persona a la base de datos? o Q para terminar: q\n",
            "Nombre y Apellido: Pepe Argento, es de la localidad de Buenos aires, su DNI es 1567894, tiene 56 años y es estudiante de abogacía, inició a cursar en 2024 \n",
            "Nombre y Apellido: Maria Alvarez, es de la localidad de Cordoba, su DNI es 24536453, tiene 34 años y es estudiante de ingeniería química, inició a cursar en 2020 \n",
            "Nombre y Apellido: Claudia Perez zunmo, es de la localidad de Risario, su DNI es 4536723, tiene 22 años y es estudiante de diseño, inició a cursar en 2017 \n"
          ]
        }
      ]
    },
    {
      "cell_type": "markdown",
      "source": [
        "**Ejercicio 4.** Crear una función que reciba una frase y devuelva una lista la cantidad de vocales que hay."
      ],
      "metadata": {
        "id": "663RqzExxawV"
      },
      "id": "663RqzExxawV"
    },
    {
      "cell_type": "code",
      "source": [],
      "metadata": {
        "id": "2CwwDDQ-h86J"
      },
      "id": "2CwwDDQ-h86J",
      "execution_count": null,
      "outputs": []
    },
    {
      "cell_type": "code",
      "source": [],
      "metadata": {
        "id": "5sphxDUaiX5r"
      },
      "id": "5sphxDUaiX5r",
      "execution_count": null,
      "outputs": []
    },
    {
      "cell_type": "markdown",
      "source": [
        "Escribe una función llamada \"elimina_duplicados\" que tome una lista y devuelva una nueva lista con los elementos únicos de la lista original."
      ],
      "metadata": {
        "id": "g-u6Boxjj5d3"
      },
      "id": "g-u6Boxjj5d3"
    },
    {
      "cell_type": "code",
      "source": [],
      "metadata": {
        "id": "OLkfBrA-j6Jx"
      },
      "id": "OLkfBrA-j6Jx",
      "execution_count": null,
      "outputs": []
    },
    {
      "cell_type": "code",
      "source": [],
      "metadata": {
        "id": "5HI2vFrekBHD"
      },
      "id": "5HI2vFrekBHD",
      "execution_count": null,
      "outputs": []
    },
    {
      "cell_type": "markdown",
      "source": [
        "Escribe una función llamada \"palindromo\" que busque todas las palabras palindromo de una lista.\n",
        "Ejemplo de palabras palindromo: radar, oro, rajar, rallar, salas, somos, etc..."
      ],
      "metadata": {
        "id": "uCp7ZG7qmMSe"
      },
      "id": "uCp7ZG7qmMSe"
    },
    {
      "cell_type": "code",
      "source": [],
      "metadata": {
        "id": "w5z-tw_NmQ8u"
      },
      "id": "w5z-tw_NmQ8u",
      "execution_count": null,
      "outputs": []
    },
    {
      "cell_type": "code",
      "source": [],
      "metadata": {
        "id": "AiFEcjOPmkWB"
      },
      "id": "AiFEcjOPmkWB",
      "execution_count": null,
      "outputs": []
    },
    {
      "cell_type": "code",
      "source": [],
      "metadata": {
        "id": "Qp6v76iYnYhu"
      },
      "id": "Qp6v76iYnYhu",
      "execution_count": null,
      "outputs": []
    },
    {
      "cell_type": "markdown",
      "source": [
        "Cuerpo de la funcion:\n",
        "\n",
        "Detectar sobre que variable hay que trabajar\n",
        "\n",
        "caso 1-> si pasa esto: hago esto\n",
        "\n",
        "caso 2-> si pasa esto otro: hago esto otro"
      ],
      "metadata": {
        "id": "PqbB-_XknvPo"
      },
      "id": "PqbB-_XknvPo"
    },
    {
      "cell_type": "code",
      "source": [],
      "metadata": {
        "id": "Wbq1DSlLm7dr"
      },
      "id": "Wbq1DSlLm7dr",
      "execution_count": null,
      "outputs": []
    },
    {
      "cell_type": "markdown",
      "metadata": {
        "id": "E2pCQrarfmes"
      },
      "source": [
        "## Tuplas\n",
        "\n",
        "*   No son mutables, ya que sus elementos no pueden ser modificados.\n",
        "*   No son dinámicas, ya que no se pueden añadir o eliminar elementos.\n",
        "*   Son ordenadas, mantienen el orden en el que han sido definidas.\n",
        "*   Pueden ser formadas por tipos arbitrarios.\n",
        "*   Pueden ser indexadas con [ i ].\n",
        "*   Pueden ser anidadas, es decir, incluir una dentro de la otra."
      ],
      "id": "E2pCQrarfmes"
    },
    {
      "cell_type": "markdown",
      "source": [
        "Sintaxis:\n",
        "\n",
        "`nombre_tupla = (int, str, tuple, float,...)`"
      ],
      "metadata": {
        "id": "L7i2szaafmeu"
      },
      "id": "L7i2szaafmeu"
    },
    {
      "cell_type": "markdown",
      "source": [
        "### Práctica de Tuplas"
      ],
      "metadata": {
        "id": "6gLA3knRg9Dm"
      },
      "id": "6gLA3knRg9Dm"
    },
    {
      "cell_type": "markdown",
      "source": [
        "**Ejercicio 1.** Crea una tupla que contenga los días de la semana (Lunes, Martes, Miércoles, etc.). Imprime la tupla y luego imprime la longitud de la tupla."
      ],
      "metadata": {
        "id": "FrojExmFgbXL"
      },
      "id": "FrojExmFgbXL"
    },
    {
      "cell_type": "code",
      "source": [
        "dias_semana = (\"Lunes\", \"Martes\", \"Miercoles\", \"Jueves\", \"Viernes\")\n",
        "print(dias_semana)\n",
        "print(len(dias_semana))"
      ],
      "metadata": {
        "colab": {
          "base_uri": "https://localhost:8080/"
        },
        "id": "oc0CWObkYIbm",
        "outputId": "472c4885-c40f-4fdb-8424-10b711f47902"
      },
      "id": "oc0CWObkYIbm",
      "execution_count": null,
      "outputs": [
        {
          "output_type": "stream",
          "name": "stdout",
          "text": [
            "('Lunes', 'Martes', 'Miercoles', 'Jueves', 'Viernes')\n",
            "5\n"
          ]
        }
      ]
    },
    {
      "cell_type": "markdown",
      "source": [
        "**Ejercicio 2.** Crea una tupla que contenga los precios de 5 productos diferentes. Usa un bucle para encontrar los precios más altos y más bajos en la tupla."
      ],
      "metadata": {
        "id": "Ju_xONBRgph0"
      },
      "id": "Ju_xONBRgph0"
    },
    {
      "cell_type": "code",
      "source": [
        "precios = (25,50,20,36,100)"
      ],
      "metadata": {
        "id": "sXDxvlnGYkjt"
      },
      "id": "sXDxvlnGYkjt",
      "execution_count": null,
      "outputs": []
    },
    {
      "cell_type": "markdown",
      "source": [
        "**Ejercicio 3.** Crea dos tuplas, una que contenga los nombres de algunas frutas (por ejemplo, manzana, plátano, cereza) y la otra que contenga los precios correspondientes. Usa un bucle para imprimir cada fruta y su precio."
      ],
      "metadata": {
        "id": "sjWayYkQgqKm"
      },
      "id": "sjWayYkQgqKm"
    },
    {
      "cell_type": "markdown",
      "source": [
        "**Ejercicio 4.** Crea una tupla de tuplas, donde cada tupla interna contenga el nombre y la edad de una persona. Ordena la tupla en función de la edad de cada persona e imprime la tupla ordenada."
      ],
      "metadata": {
        "id": "xIljq8lPgszH"
      },
      "id": "xIljq8lPgszH"
    },
    {
      "cell_type": "markdown",
      "source": [
        "**Ejercicio 5.** Crea una tupla que contenga los primeros 10 números pares (2, 4, 6, etc.). Usa un bucle para calcular la suma de todos los números en la tupla."
      ],
      "metadata": {
        "id": "S_kq6DgegtIb"
      },
      "id": "S_kq6DgegtIb"
    },
    {
      "cell_type": "markdown",
      "source": [
        "## Diccionarios\n",
        "* Son mutables, permitiendo la modificación de sus elementos.\n",
        "* Son estructuras de datos dinámicas que pueden crecer o reducirse al añadir o eliminar pares clave-valor.\n",
        "* No mantienen un orden específico de sus elementos, a diferencia de las tuplas.\n",
        "* Consisten en pares clave-valor, donde cada valor está asociado a una clave única.\n",
        "* Se accede a los valores a través de sus claves en lugar de índices numéricos.\n",
        "* Los diccionarios pueden anidarse, permitiendo la inclusión de diccionarios dentro de otros diccionarios para estructuras de datos más complejas."
      ],
      "metadata": {
        "id": "Soe6CMVcBD_Z"
      },
      "id": "Soe6CMVcBD_Z"
    },
    {
      "cell_type": "markdown",
      "source": [
        "Sintaxis:\n",
        "\n",
        "`nombre_diccionario = {int: str,\n",
        "                       str: float,\n",
        "                       tuple: list,...}`"
      ],
      "metadata": {
        "id": "tpTPJZ3YCbHk"
      },
      "id": "tpTPJZ3YCbHk"
    },
    {
      "cell_type": "markdown",
      "source": [
        "### Práctica de Diccionarios"
      ],
      "metadata": {
        "id": "MLhcBjlqB6l6"
      },
      "id": "MLhcBjlqB6l6"
    },
    {
      "cell_type": "markdown",
      "source": [
        "**Ejercicio 1.** Escribe un programa que lea una cadena y devuelva un diccionario con la cantidad de apariciones de\n",
        "cada palabra en la cadena.\n",
        "Por ejemplo:\n",
        "\n",
        "`\"la peluca de la abuela \"`\n",
        "\n",
        "Debería mostrar\n",
        "\n",
        "`{\"la\": 2 , \" peluca \": 1 , \"de\": 1 , \" abuela \": 1}`"
      ],
      "metadata": {
        "id": "mDRbYGtGBGQF"
      },
      "id": "mDRbYGtGBGQF"
    },
    {
      "cell_type": "markdown",
      "source": [
        "**Ejercicio 2.** Crear un diccionario de la lista de precios de una verdulería."
      ],
      "metadata": {
        "id": "cbNjBJC9zFS3"
      },
      "id": "cbNjBJC9zFS3"
    },
    {
      "cell_type": "markdown",
      "source": [],
      "metadata": {
        "id": "RMPdR2UvcrfY"
      },
      "id": "RMPdR2UvcrfY"
    },
    {
      "cell_type": "code",
      "source": [],
      "metadata": {
        "id": "b4QwCjlccrPw"
      },
      "id": "b4QwCjlccrPw",
      "execution_count": null,
      "outputs": []
    },
    {
      "cell_type": "code",
      "source": [
        "\n",
        "def frecuencia(cadena:str):\n",
        "  palabras = cadena.split()\n",
        "  diccionario = {}\n",
        "\n",
        "  for palabra in palabras:\n",
        "    if palabra in diccionario:\n",
        "      diccionario[palabra] += 1\n",
        "    else:\n",
        "      diccionario[palabra] = 1\n",
        "  return diccionario\n",
        "\n",
        "frecuencia(\"la peluca de la abuela \")"
      ],
      "metadata": {
        "id": "BirulGe9oT4-",
        "colab": {
          "base_uri": "https://localhost:8080/"
        },
        "outputId": "3f916d5b-40aa-4df1-d14a-89f0ed3f85be"
      },
      "id": "BirulGe9oT4-",
      "execution_count": null,
      "outputs": [
        {
          "output_type": "execute_result",
          "data": {
            "text/plain": [
              "{'la': 2, 'peluca': 1, 'de': 1, 'abuela': 1}"
            ]
          },
          "metadata": {},
          "execution_count": 24
        }
      ]
    },
    {
      "cell_type": "markdown",
      "source": [
        "**Ejercicio 3.** A partir del diccionario anterior, imprimir en la pantalla el nombre de la fruta/verdura con su correspondiente precio."
      ],
      "metadata": {
        "id": "GQq19546zToD"
      },
      "id": "GQq19546zToD"
    },
    {
      "cell_type": "markdown",
      "source": [
        "**Ejercicio 4.** Utilizando el diccionario anterior, pedirle al usuario que ingrese una fruta/verdura y que indique su precio. Si no hay en stock avisarle al cliente y preguntarle si desea agregarla o no."
      ],
      "metadata": {
        "id": "mY7bF_Auzs7u"
      },
      "id": "mY7bF_Auzs7u"
    },
    {
      "cell_type": "markdown",
      "metadata": {
        "id": "eea999dc"
      },
      "source": [
        "**Ejercicio 5.** Escribir una primer función que pida el nombre y 3 notas de unx alumnx, devuelva el nombre y una lista con las notas.\n",
        "Llamar dicha función tantas veces como alumnos haya y crear un diccionario donde la clave sea el nombre del estudiante y el valor la lista de sus notas.\n",
        "Por último, calcular el promedio de cada unx y mostrarlo en pantalla.\n",
        "\n",
        "Por ejemplo para\n",
        "    \n",
        "    alumnos = { \" Juan \" : [6 ,9 ,8] , \" Manuel \" : [9 ,10 ,9] , \" Martin \" : [5 ,6 ,7]}\n",
        "\n",
        "\n",
        "Debería mostrar:\n",
        "<dd>El promedio de Juan es 7.666666</dd>\n",
        "<dd>El promedio de Manuel es 9.333333</dd>\n",
        "<dd>El promedio de Martin es 6</dd>"
      ],
      "id": "eea999dc"
    },
    {
      "cell_type": "markdown",
      "metadata": {
        "id": "b133b714"
      },
      "source": [
        "**Ejercicio 6.** Cartas como diccionario.\n",
        "<dl>\n",
        "<dd>a. Proponer una representación con diccionarios para un mazo completo de cartas.</dd>\n",
        "<dd>b. Escribir una función de poker que baraje cinco cartas de la baraja francesa e informe (devuelva\n",
        "el valor lógico correspondiente) si esas cartas forman o no un poker (es decir que hay 4 cartas con\n",
        "el mismo número).</dd>\n",
        "</dl>"
      ],
      "id": "b133b714"
    }
  ],
  "metadata": {
    "kernelspec": {
      "display_name": "tuia",
      "language": "python",
      "name": "tuia"
    },
    "language_info": {
      "codemirror_mode": {
        "name": "ipython",
        "version": 3
      },
      "file_extension": ".py",
      "mimetype": "text/x-python",
      "name": "python",
      "nbconvert_exporter": "python",
      "pygments_lexer": "ipython3",
      "version": "3.8.10"
    },
    "colab": {
      "provenance": [],
      "include_colab_link": true
    }
  },
  "nbformat": 4,
  "nbformat_minor": 5
}